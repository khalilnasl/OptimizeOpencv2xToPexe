{
 "cells": [
  {
   "cell_type": "code",
   "execution_count": null,
   "metadata": {},
   "outputs": [],
   "source": [
    "import matplotlib.pyplot as plt\n",
    "plt.rcParams['axes.grid'] = True\n",
    "\n",
    "import numpy as np\n",
    "\n",
    "\n",
    "data = [ \n",
    "    # Dataset that was generated from the Calculate_FailedRate_Platoon.py\n",
    " ]\n",
    "\n",
    "# Separate data for P and R methods\n",
    "method_p = [entry for entry in data if entry[0] == 'P']\n",
    "method_r = [entry for entry in data if entry[0] == 'R']\n",
    "\n",
    "# Prepare dataset for different repetitions\n",
    "method_p_reps = [[data[3] for data in method_p if data[2] == rep] for rep in range(10)]\n",
    "method_r_reps = [[data[3] for data in method_r if data[2] == rep] for rep in range(10)]\n",
    "\n",
    "# Calculate average over repetitions\n",
    "method_p_avg = np.mean(method_p_reps, axis=0)\n",
    "method_r_avg = np.mean(method_r_reps, axis=0)\n",
    "\n",
    "# Generate x-axis values (number of cars)\n",
    "x = range(9, 33, 3)\n",
    "\n",
    "\n",
    "\n",
    "\n",
    "# Modify x values\n",
    "x_modified = [value + 0 for value in x]\n",
    "\n",
    "# Plotting the line chart\n",
    "plt.plot(x_modified, method_p_avg, marker='o', label='Partition')\n",
    "plt.plot(x_modified, method_r_avg, marker='o', label='Random')\n",
    "\n",
    "# Axis labels and title\n",
    "plt.xlabel('Density of Background Traffic')\n",
    "plt.ylabel('Loss Rate of TBs')\n",
    "\n",
    "# Set xticks to ensure they are integers\n",
    "plt.xticks(list(x_modified))\n",
    "\n",
    "# Legend\n",
    "plt.legend()\n",
    "\n",
    "# Display the chart\n",
    "plt.show()\n",
    "\n"
   ]
  }
 ],
 "metadata": {
  "language_info": {
   "name": "python"
  },
  "orig_nbformat": 4
 },
 "nbformat": 4,
 "nbformat_minor": 2
}
